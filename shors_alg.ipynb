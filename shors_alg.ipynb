{
 "cells": [
  {
   "cell_type": "markdown",
   "id": "6b9b52b3",
   "metadata": {},
   "source": [
    "# Oracle from Shor's algorithm\n",
    "\n",
    "#TODO describe project"
   ]
  },
  {
   "cell_type": "markdown",
   "id": "3d13bab8",
   "metadata": {},
   "source": []
  }
 ],
 "metadata": {
  "language_info": {
   "name": "python"
  }
 },
 "nbformat": 4,
 "nbformat_minor": 5
}
