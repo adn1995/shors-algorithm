{
 "cells": [
  {
   "cell_type": "markdown",
   "id": "83972f01",
   "metadata": {},
   "source": [
    "# Mini-Probject Batch 2, Problem 2: An Oracle for Shor's "
   ]
  },
  {
   "cell_type": "markdown",
   "id": "5f1f00b4",
   "metadata": {},
   "source": [
    "Amanda Curtis and Arthur Diep-Nguyen, for the Erdos Institute's Quantum Computing Bootcamp, Summer 2025. \n",
    "\n",
    "This work is based off of sources cited at the end of the notebook. "
   ]
  },
  {
   "cell_type": "markdown",
   "id": "4e56b5a4",
   "metadata": {},
   "source": [
    "In the following notebook, we build an oracle for Shor's Algorithm in the case where N = 15. If time permits, we may generalize for more values of N. "
   ]
  },
  {
   "cell_type": "markdown",
   "id": "c6d658ea",
   "metadata": {},
   "source": [
    "## Outline \n",
    "\n",
    "1. Explaination of Process, Rationale \n",
    "2. Building phiADD(a)\n",
    "3. Building phiADD(a)mod(N)\n",
    "4. Building CMult(a)mod(N)\n",
    "5. The Complete Oracle \n",
    "6. Benchmarking and Analysis \n",
    "7. Sources \n"
   ]
  },
  {
   "cell_type": "markdown",
   "id": "70d8d009",
   "metadata": {},
   "source": [
    "## 1. Process and Rationale "
   ]
  },
  {
   "cell_type": "code",
   "execution_count": 4,
   "id": "37939640",
   "metadata": {},
   "outputs": [
    {
     "name": "stdout",
     "output_type": "stream",
     "text": [
      "Requirement already satisfied: qiskit in /opt/homebrew/Caskroom/miniforge/base/envs/erdos_spring_2025/lib/python3.12/site-packages (2.0.0)\n",
      "Requirement already satisfied: pylatexenc in /opt/homebrew/Caskroom/miniforge/base/envs/erdos_spring_2025/lib/python3.12/site-packages (2.10)\n",
      "Requirement already satisfied: rustworkx>=0.15.0 in /opt/homebrew/Caskroom/miniforge/base/envs/erdos_spring_2025/lib/python3.12/site-packages (from qiskit) (0.16.0)\n",
      "Requirement already satisfied: numpy<3,>=1.17 in /opt/homebrew/Caskroom/miniforge/base/envs/erdos_spring_2025/lib/python3.12/site-packages (from qiskit) (2.2.2)\n",
      "Requirement already satisfied: scipy>=1.5 in /opt/homebrew/Caskroom/miniforge/base/envs/erdos_spring_2025/lib/python3.12/site-packages (from qiskit) (1.15.1)\n",
      "Requirement already satisfied: sympy>=1.3 in /opt/homebrew/Caskroom/miniforge/base/envs/erdos_spring_2025/lib/python3.12/site-packages (from qiskit) (1.14.0)\n",
      "Requirement already satisfied: dill>=0.3 in /opt/homebrew/Caskroom/miniforge/base/envs/erdos_spring_2025/lib/python3.12/site-packages (from qiskit) (0.4.0)\n",
      "Requirement already satisfied: python-dateutil>=2.8.0 in /opt/homebrew/Caskroom/miniforge/base/envs/erdos_spring_2025/lib/python3.12/site-packages (from qiskit) (2.9.0.post0)\n",
      "Requirement already satisfied: stevedore>=3.0.0 in /opt/homebrew/Caskroom/miniforge/base/envs/erdos_spring_2025/lib/python3.12/site-packages (from qiskit) (5.4.1)\n",
      "Requirement already satisfied: typing-extensions in /opt/homebrew/Caskroom/miniforge/base/envs/erdos_spring_2025/lib/python3.12/site-packages (from qiskit) (4.12.2)\n",
      "Requirement already satisfied: symengine<0.14,>=0.11 in /opt/homebrew/Caskroom/miniforge/base/envs/erdos_spring_2025/lib/python3.12/site-packages (from qiskit) (0.13.0)\n",
      "Requirement already satisfied: six>=1.5 in /opt/homebrew/Caskroom/miniforge/base/envs/erdos_spring_2025/lib/python3.12/site-packages (from python-dateutil>=2.8.0->qiskit) (1.17.0)\n",
      "Requirement already satisfied: pbr>=2.0.0 in /opt/homebrew/Caskroom/miniforge/base/envs/erdos_spring_2025/lib/python3.12/site-packages (from stevedore>=3.0.0->qiskit) (6.1.1)\n",
      "Requirement already satisfied: mpmath<1.4,>=1.1.0 in /opt/homebrew/Caskroom/miniforge/base/envs/erdos_spring_2025/lib/python3.12/site-packages (from sympy>=1.3->qiskit) (1.3.0)\n",
      "Requirement already satisfied: setuptools in /opt/homebrew/Caskroom/miniforge/base/envs/erdos_spring_2025/lib/python3.12/site-packages (from pbr>=2.0.0->stevedore>=3.0.0->qiskit) (75.8.0)\n",
      "Note: you may need to restart the kernel to use updated packages.\n"
     ]
    }
   ],
   "source": [
    "# Header from our .py document \n",
    "\n",
    "# filename: shors_alg.py\n",
    "# authors: Amanda Curtis and Arthur Diep-Nguyen\n",
    "\n",
    "# Checking that we have everything we need for qiskit \n",
    "%pip install qiskit pylatexenc\n",
    "\n",
    "from qiskit.circuit import QuantumCircuit, QuantumRegister, AncillaRegister\n",
    "from qiskit.quantum_info import Statevector\n",
    "from qiskit.circuit.library import QFT\n",
    "#import matplotlib.pyplot as plt\n",
    "\n",
    "import numpy as np\n",
    "import math"
   ]
  },
  {
   "cell_type": "markdown",
   "id": "bcfa3853",
   "metadata": {},
   "source": [
    "## 2. Building phiADD(a)"
   ]
  },
  {
   "cell_type": "code",
   "execution_count": 26,
   "id": "62b83a33",
   "metadata": {},
   "outputs": [],
   "source": [
    "\n",
    "def adder(a: int, N: int) -> QuantumCircuit:\n",
    "    #TODO see Section 2.1 and Figure 3\n",
    "    # Must first \"solve\" for n, set up registers needed\n",
    "    # Based off of cited paper and QC Bootcamp 2's implementation of \n",
    "    # Draper's adder circuit \n",
    "    # and class lecture on 22 May 2025\n",
    "\n",
    "    # We utilize the corollary that relates the QFT, A_k (Draper), \n",
    "    # and this (controlled) phase gate P_n(a) (phiADD(a)) \n",
    "\n",
    "    # \"Solving\" for n \n",
    "    n = int(np.ceil(np.log2(N)))\n",
    "\n",
    "    # Setting up Quantum Register \n",
    "    quantum_register = QuantumRegister(size=n, name ='x')\n",
    "    phi_add_a = QuantumCircuit(quantum_register, name=\"phi_add_a\")\n",
    "\n",
    "    # Building P_n(a) by making a phase gate p\n",
    "    # for each qubit \n",
    "    for idx, q in enumerate(reversed(quantum_register)):\n",
    "        phi_add_a.p(np.pi * a / (1 << idx), q)\n",
    "\n",
    "    \n",
    "\n",
    "    return phi_add_a\n",
    "    "
   ]
  },
  {
   "cell_type": "code",
   "execution_count": 33,
   "id": "3400675f",
   "metadata": {},
   "outputs": [
    {
     "data": {
      "image/png": "[encoded data removed]",
      "text/plain": [
       "<Figure size 202.683x367.889 with 1 Axes>"
      ]
     },
     "execution_count": 33,
     "metadata": {},
     "output_type": "execute_result"
    }
   ],
   "source": [
    "# Testing adder\n",
    "adder(2, 15).draw(output=\"mpl\", style=\"bw\")"
   ]
  },
  {
   "cell_type": "markdown",
   "id": "f23abb8a",
   "metadata": {},
   "source": [
    "## 3. Building phiADD(a)mod(N)"
   ]
  },
  {
   "cell_type": "code",
   "execution_count": null,
   "id": "ff9ae8d8",
   "metadata": {},
   "outputs": [],
   "source": [
    "# Copying outline of code from our .py file \n",
    "\n",
    "def cc_adder_mod(a: int, N: int) -> QuantumCircuit:\n",
    "    #TODO doubly controlled, see Section 2.2 and Figure 5\n",
    "    pass"
   ]
  },
  {
   "cell_type": "markdown",
   "id": "0e9f4c3c",
   "metadata": {},
   "source": [
    "## 4. Building CMult(a)mod(N)"
   ]
  },
  {
   "cell_type": "markdown",
   "id": "fb41adc2",
   "metadata": {},
   "source": [
    "## 5. The Complete Oracle "
   ]
  },
  {
   "cell_type": "markdown",
   "id": "eb271357",
   "metadata": {},
   "source": [
    "## 6. Benchmarking and Analysis "
   ]
  },
  {
   "cell_type": "markdown",
   "id": "9b63c0ae",
   "metadata": {},
   "source": [
    "## 7. Sources "
   ]
  },
  {
   "cell_type": "code",
   "execution_count": null,
   "id": "59617f94",
   "metadata": {},
   "outputs": [],
   "source": []
  }
 ],
 "metadata": {
  "kernelspec": {
   "display_name": "erdos_spring_2025",
   "language": "python",
   "name": "python3"
  },
  "language_info": {
   "codemirror_mode": {
    "name": "ipython",
    "version": 3
   },
   "file_extension": ".py",
   "mimetype": "text/x-python",
   "name": "python",
   "nbconvert_exporter": "python",
   "pygments_lexer": "ipython3",
   "version": "3.12.8"
  }
 },
 "nbformat": 4,
 "nbformat_minor": 5
}
